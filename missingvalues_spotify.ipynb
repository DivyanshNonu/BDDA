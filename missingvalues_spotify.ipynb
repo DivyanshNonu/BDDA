{
  "nbformat": 4,
  "nbformat_minor": 0,
  "metadata": {
    "colab": {
      "provenance": []
    },
    "kernelspec": {
      "name": "python3",
      "display_name": "Python 3"
    },
    "language_info": {
      "name": "python"
    }
  },
  "cells": [
    {
      "cell_type": "code",
      "execution_count": 2,
      "metadata": {
        "id": "NVhKdb_HH5Pw"
      },
      "outputs": [],
      "source": [
        "import pandas as pd\n",
        "\n",
        "# 1.0.1\n",
        "from sklearn.model_selection import train_test_split\n",
        "from sklearn.ensemble import  RandomForestClassifier\n",
        "from sklearn.metrics import accuracy_score\n",
        "from sklearn.impute import SimpleImputer\n",
        "from sklearn.pipeline import make_pipeline\n",
        "\n",
        "# 1.0.2\n",
        "from pathlib import Path\n"
      ]
    },
    {
      "cell_type": "code",
      "source": [
        "# 1.1\n",
        "from google.colab import drive\n",
        "drive.mount('/gdrive')"
      ],
      "metadata": {
        "colab": {
          "base_uri": "https://localhost:8080/"
        },
        "id": "O-BAr4blH51e",
        "outputId": "df99107a-79f3-414f-d2d9-42591c18c8c5"
      },
      "execution_count": 3,
      "outputs": [
        {
          "output_type": "stream",
          "name": "stdout",
          "text": [
            "Drive already mounted at /gdrive; to attempt to forcibly remount, call drive.mount(\"/gdrive\", force_remount=True).\n"
          ]
        }
      ]
    },
    {
      "cell_type": "code",
      "source": [
        "# 1.2 Display from a cell outputs of multiple commands:\n",
        "\n",
        "from IPython.core.interactiveshell import InteractiveShell\n",
        "InteractiveShell.ast_node_interactivity = \"all\""
      ],
      "metadata": {
        "id": "yD1XnqIVH9qy"
      },
      "execution_count": 4,
      "outputs": []
    },
    {
      "cell_type": "code",
      "source": [
        "# 1.2.1 Where is our data:\n",
        "\n",
        "pathToFolder = \"/gdrive/MyDrive/dataset_BDDA\""
      ],
      "metadata": {
        "id": "AXM_zW0MILUM"
      },
      "execution_count": 5,
      "outputs": []
    },
    {
      "cell_type": "code",
      "source": [
        "# 1.2.2 And our file?\n",
        "\n",
        "path = Path(pathToFolder) / \"Spotify_Dataset_V2.csv\""
      ],
      "metadata": {
        "id": "kPOGXdJEIdCJ"
      },
      "execution_count": 6,
      "outputs": []
    },
    {
      "cell_type": "code",
      "source": [
        "# 2.1 Load the data\n",
        "data = pd.read_csv(path, sep=\";\")"
      ],
      "metadata": {
        "id": "WMJTzdudIk6g"
      },
      "execution_count": 7,
      "outputs": []
    },
    {
      "cell_type": "code",
      "source": [
        "data.head()\n",
        "data.shape"
      ],
      "metadata": {
        "colab": {
          "base_uri": "https://localhost:8080/",
          "height": 565
        },
        "id": "k6up5-Sdf_mH",
        "outputId": "6bb388e3-d4ad-47e1-982c-80f29d13b4f9"
      },
      "execution_count": 8,
      "outputs": [
        {
          "output_type": "execute_result",
          "data": {
            "text/plain": [
              "   Rank            Title                     Artists        Date  \\\n",
              "0     1  Ella Baila Sola  Eslabon Armado, Peso Pluma  29/05/2023   \n",
              "1     1  Ella Baila Sola  Eslabon Armado, Peso Pluma  29/05/2023   \n",
              "2     2   WHERE SHE GOES                   Bad Bunny  29/05/2023   \n",
              "3     3  La Bebe - Remix       Yng Lvcas, Peso Pluma  29/05/2023   \n",
              "4     3  La Bebe - Remix       Yng Lvcas, Peso Pluma  29/05/2023   \n",
              "\n",
              "   Danceability  Energy  Loudness  Speechiness  Acousticness  \\\n",
              "0         0.668   0.758   -5176.0        0.033         0.483   \n",
              "1         0.668   0.758   -5176.0        0.033         0.483   \n",
              "2         0.652   0.800   -4019.0        0.061         0.143   \n",
              "3         0.812   0.479   -5678.0        0.333         0.213   \n",
              "4         0.812   0.479   -5678.0        0.333         0.213   \n",
              "\n",
              "   Instrumentalness  Valence # of Artist   Artist (Ind.) # of Nationality  \\\n",
              "0             0.000    0.834    Artist 1  Eslabon Armado    Nationality 1   \n",
              "1             0.000    0.834    Artist 2      Peso Pluma    Nationality 2   \n",
              "2             0.629    0.234    Artist 1       Bad Bunny    Nationality 1   \n",
              "3             0.000    0.559    Artist 1       Yng Lvcas    Nationality 1   \n",
              "4             0.000    0.559    Artist 2      Peso Pluma    Nationality 2   \n",
              "\n",
              "   Nationality      Continent  Points (Total)  \\\n",
              "0       Mexico  Latin-America             200   \n",
              "1       Mexico  Latin-America             200   \n",
              "2  Puerto Rico  Latin-America             199   \n",
              "3       Mexico  Latin-America             198   \n",
              "4       Mexico  Latin-America             198   \n",
              "\n",
              "   Points (Ind for each Artist/Nat)                      id  \\\n",
              "0                             100.0  3qQbCzHBycnDpGskqOWY0E   \n",
              "1                             100.0  3qQbCzHBycnDpGskqOWY0E   \n",
              "2                             199.0  7ro0hRteUMfnOioTFI5TG1   \n",
              "3                              99.0  2UW7JaomAMuX9pZrjVpHAU   \n",
              "4                              99.0  2UW7JaomAMuX9pZrjVpHAU   \n",
              "\n",
              "                                            Song URL  \n",
              "0  https://open.spotify.com/track/3qQbCzHBycnDpGs...  \n",
              "1  https://open.spotify.com/track/3qQbCzHBycnDpGs...  \n",
              "2  https://open.spotify.com/track/7ro0hRteUMfnOio...  \n",
              "3  https://open.spotify.com/track/2UW7JaomAMuX9pZ...  \n",
              "4  https://open.spotify.com/track/2UW7JaomAMuX9pZ...  "
            ],
            "text/html": [
              "\n",
              "\n",
              "  <div id=\"df-6aef0d29-f597-4c38-8dab-b1ff5cfe4d56\">\n",
              "    <div class=\"colab-df-container\">\n",
              "      <div>\n",
              "<style scoped>\n",
              "    .dataframe tbody tr th:only-of-type {\n",
              "        vertical-align: middle;\n",
              "    }\n",
              "\n",
              "    .dataframe tbody tr th {\n",
              "        vertical-align: top;\n",
              "    }\n",
              "\n",
              "    .dataframe thead th {\n",
              "        text-align: right;\n",
              "    }\n",
              "</style>\n",
              "<table border=\"1\" class=\"dataframe\">\n",
              "  <thead>\n",
              "    <tr style=\"text-align: right;\">\n",
              "      <th></th>\n",
              "      <th>Rank</th>\n",
              "      <th>Title</th>\n",
              "      <th>Artists</th>\n",
              "      <th>Date</th>\n",
              "      <th>Danceability</th>\n",
              "      <th>Energy</th>\n",
              "      <th>Loudness</th>\n",
              "      <th>Speechiness</th>\n",
              "      <th>Acousticness</th>\n",
              "      <th>Instrumentalness</th>\n",
              "      <th>Valence</th>\n",
              "      <th># of Artist</th>\n",
              "      <th>Artist (Ind.)</th>\n",
              "      <th># of Nationality</th>\n",
              "      <th>Nationality</th>\n",
              "      <th>Continent</th>\n",
              "      <th>Points (Total)</th>\n",
              "      <th>Points (Ind for each Artist/Nat)</th>\n",
              "      <th>id</th>\n",
              "      <th>Song URL</th>\n",
              "    </tr>\n",
              "  </thead>\n",
              "  <tbody>\n",
              "    <tr>\n",
              "      <th>0</th>\n",
              "      <td>1</td>\n",
              "      <td>Ella Baila Sola</td>\n",
              "      <td>Eslabon Armado, Peso Pluma</td>\n",
              "      <td>29/05/2023</td>\n",
              "      <td>0.668</td>\n",
              "      <td>0.758</td>\n",
              "      <td>-5176.0</td>\n",
              "      <td>0.033</td>\n",
              "      <td>0.483</td>\n",
              "      <td>0.000</td>\n",
              "      <td>0.834</td>\n",
              "      <td>Artist 1</td>\n",
              "      <td>Eslabon Armado</td>\n",
              "      <td>Nationality 1</td>\n",
              "      <td>Mexico</td>\n",
              "      <td>Latin-America</td>\n",
              "      <td>200</td>\n",
              "      <td>100.0</td>\n",
              "      <td>3qQbCzHBycnDpGskqOWY0E</td>\n",
              "      <td>https://open.spotify.com/track/3qQbCzHBycnDpGs...</td>\n",
              "    </tr>\n",
              "    <tr>\n",
              "      <th>1</th>\n",
              "      <td>1</td>\n",
              "      <td>Ella Baila Sola</td>\n",
              "      <td>Eslabon Armado, Peso Pluma</td>\n",
              "      <td>29/05/2023</td>\n",
              "      <td>0.668</td>\n",
              "      <td>0.758</td>\n",
              "      <td>-5176.0</td>\n",
              "      <td>0.033</td>\n",
              "      <td>0.483</td>\n",
              "      <td>0.000</td>\n",
              "      <td>0.834</td>\n",
              "      <td>Artist 2</td>\n",
              "      <td>Peso Pluma</td>\n",
              "      <td>Nationality 2</td>\n",
              "      <td>Mexico</td>\n",
              "      <td>Latin-America</td>\n",
              "      <td>200</td>\n",
              "      <td>100.0</td>\n",
              "      <td>3qQbCzHBycnDpGskqOWY0E</td>\n",
              "      <td>https://open.spotify.com/track/3qQbCzHBycnDpGs...</td>\n",
              "    </tr>\n",
              "    <tr>\n",
              "      <th>2</th>\n",
              "      <td>2</td>\n",
              "      <td>WHERE SHE GOES</td>\n",
              "      <td>Bad Bunny</td>\n",
              "      <td>29/05/2023</td>\n",
              "      <td>0.652</td>\n",
              "      <td>0.800</td>\n",
              "      <td>-4019.0</td>\n",
              "      <td>0.061</td>\n",
              "      <td>0.143</td>\n",
              "      <td>0.629</td>\n",
              "      <td>0.234</td>\n",
              "      <td>Artist 1</td>\n",
              "      <td>Bad Bunny</td>\n",
              "      <td>Nationality 1</td>\n",
              "      <td>Puerto Rico</td>\n",
              "      <td>Latin-America</td>\n",
              "      <td>199</td>\n",
              "      <td>199.0</td>\n",
              "      <td>7ro0hRteUMfnOioTFI5TG1</td>\n",
              "      <td>https://open.spotify.com/track/7ro0hRteUMfnOio...</td>\n",
              "    </tr>\n",
              "    <tr>\n",
              "      <th>3</th>\n",
              "      <td>3</td>\n",
              "      <td>La Bebe - Remix</td>\n",
              "      <td>Yng Lvcas, Peso Pluma</td>\n",
              "      <td>29/05/2023</td>\n",
              "      <td>0.812</td>\n",
              "      <td>0.479</td>\n",
              "      <td>-5678.0</td>\n",
              "      <td>0.333</td>\n",
              "      <td>0.213</td>\n",
              "      <td>0.000</td>\n",
              "      <td>0.559</td>\n",
              "      <td>Artist 1</td>\n",
              "      <td>Yng Lvcas</td>\n",
              "      <td>Nationality 1</td>\n",
              "      <td>Mexico</td>\n",
              "      <td>Latin-America</td>\n",
              "      <td>198</td>\n",
              "      <td>99.0</td>\n",
              "      <td>2UW7JaomAMuX9pZrjVpHAU</td>\n",
              "      <td>https://open.spotify.com/track/2UW7JaomAMuX9pZ...</td>\n",
              "    </tr>\n",
              "    <tr>\n",
              "      <th>4</th>\n",
              "      <td>3</td>\n",
              "      <td>La Bebe - Remix</td>\n",
              "      <td>Yng Lvcas, Peso Pluma</td>\n",
              "      <td>29/05/2023</td>\n",
              "      <td>0.812</td>\n",
              "      <td>0.479</td>\n",
              "      <td>-5678.0</td>\n",
              "      <td>0.333</td>\n",
              "      <td>0.213</td>\n",
              "      <td>0.000</td>\n",
              "      <td>0.559</td>\n",
              "      <td>Artist 2</td>\n",
              "      <td>Peso Pluma</td>\n",
              "      <td>Nationality 2</td>\n",
              "      <td>Mexico</td>\n",
              "      <td>Latin-America</td>\n",
              "      <td>198</td>\n",
              "      <td>99.0</td>\n",
              "      <td>2UW7JaomAMuX9pZrjVpHAU</td>\n",
              "      <td>https://open.spotify.com/track/2UW7JaomAMuX9pZ...</td>\n",
              "    </tr>\n",
              "  </tbody>\n",
              "</table>\n",
              "</div>\n",
              "      <button class=\"colab-df-convert\" onclick=\"convertToInteractive('df-6aef0d29-f597-4c38-8dab-b1ff5cfe4d56')\"\n",
              "              title=\"Convert this dataframe to an interactive table.\"\n",
              "              style=\"display:none;\">\n",
              "\n",
              "  <svg xmlns=\"http://www.w3.org/2000/svg\" height=\"24px\"viewBox=\"0 0 24 24\"\n",
              "       width=\"24px\">\n",
              "    <path d=\"M0 0h24v24H0V0z\" fill=\"none\"/>\n",
              "    <path d=\"M18.56 5.44l.94 2.06.94-2.06 2.06-.94-2.06-.94-.94-2.06-.94 2.06-2.06.94zm-11 1L8.5 8.5l.94-2.06 2.06-.94-2.06-.94L8.5 2.5l-.94 2.06-2.06.94zm10 10l.94 2.06.94-2.06 2.06-.94-2.06-.94-.94-2.06-.94 2.06-2.06.94z\"/><path d=\"M17.41 7.96l-1.37-1.37c-.4-.4-.92-.59-1.43-.59-.52 0-1.04.2-1.43.59L10.3 9.45l-7.72 7.72c-.78.78-.78 2.05 0 2.83L4 21.41c.39.39.9.59 1.41.59.51 0 1.02-.2 1.41-.59l7.78-7.78 2.81-2.81c.8-.78.8-2.07 0-2.86zM5.41 20L4 18.59l7.72-7.72 1.47 1.35L5.41 20z\"/>\n",
              "  </svg>\n",
              "      </button>\n",
              "\n",
              "\n",
              "\n",
              "    <div id=\"df-0e3ca6ec-0dcd-451a-bad7-f74ee69c6ae8\">\n",
              "      <button class=\"colab-df-quickchart\" onclick=\"quickchart('df-0e3ca6ec-0dcd-451a-bad7-f74ee69c6ae8')\"\n",
              "              title=\"Suggest charts.\"\n",
              "              style=\"display:none;\">\n",
              "\n",
              "<svg xmlns=\"http://www.w3.org/2000/svg\" height=\"24px\"viewBox=\"0 0 24 24\"\n",
              "     width=\"24px\">\n",
              "    <g>\n",
              "        <path d=\"M19 3H5c-1.1 0-2 .9-2 2v14c0 1.1.9 2 2 2h14c1.1 0 2-.9 2-2V5c0-1.1-.9-2-2-2zM9 17H7v-7h2v7zm4 0h-2V7h2v10zm4 0h-2v-4h2v4z\"/>\n",
              "    </g>\n",
              "</svg>\n",
              "      </button>\n",
              "    </div>\n",
              "\n",
              "<style>\n",
              "  .colab-df-quickchart {\n",
              "    background-color: #E8F0FE;\n",
              "    border: none;\n",
              "    border-radius: 50%;\n",
              "    cursor: pointer;\n",
              "    display: none;\n",
              "    fill: #1967D2;\n",
              "    height: 32px;\n",
              "    padding: 0 0 0 0;\n",
              "    width: 32px;\n",
              "  }\n",
              "\n",
              "  .colab-df-quickchart:hover {\n",
              "    background-color: #E2EBFA;\n",
              "    box-shadow: 0px 1px 2px rgba(60, 64, 67, 0.3), 0px 1px 3px 1px rgba(60, 64, 67, 0.15);\n",
              "    fill: #174EA6;\n",
              "  }\n",
              "\n",
              "  [theme=dark] .colab-df-quickchart {\n",
              "    background-color: #3B4455;\n",
              "    fill: #D2E3FC;\n",
              "  }\n",
              "\n",
              "  [theme=dark] .colab-df-quickchart:hover {\n",
              "    background-color: #434B5C;\n",
              "    box-shadow: 0px 1px 3px 1px rgba(0, 0, 0, 0.15);\n",
              "    filter: drop-shadow(0px 1px 2px rgba(0, 0, 0, 0.3));\n",
              "    fill: #FFFFFF;\n",
              "  }\n",
              "</style>\n",
              "\n",
              "    <script>\n",
              "      async function quickchart(key) {\n",
              "        const containerElement = document.querySelector('#' + key);\n",
              "        const charts = await google.colab.kernel.invokeFunction(\n",
              "            'suggestCharts', [key], {});\n",
              "      }\n",
              "    </script>\n",
              "\n",
              "\n",
              "      <script>\n",
              "\n",
              "function displayQuickchartButton(domScope) {\n",
              "  let quickchartButtonEl =\n",
              "    domScope.querySelector('#df-0e3ca6ec-0dcd-451a-bad7-f74ee69c6ae8 button.colab-df-quickchart');\n",
              "  quickchartButtonEl.style.display =\n",
              "    google.colab.kernel.accessAllowed ? 'block' : 'none';\n",
              "}\n",
              "\n",
              "        displayQuickchartButton(document);\n",
              "      </script>\n",
              "      <style>\n",
              "    .colab-df-container {\n",
              "      display:flex;\n",
              "      flex-wrap:wrap;\n",
              "      gap: 12px;\n",
              "    }\n",
              "\n",
              "    .colab-df-convert {\n",
              "      background-color: #E8F0FE;\n",
              "      border: none;\n",
              "      border-radius: 50%;\n",
              "      cursor: pointer;\n",
              "      display: none;\n",
              "      fill: #1967D2;\n",
              "      height: 32px;\n",
              "      padding: 0 0 0 0;\n",
              "      width: 32px;\n",
              "    }\n",
              "\n",
              "    .colab-df-convert:hover {\n",
              "      background-color: #E2EBFA;\n",
              "      box-shadow: 0px 1px 2px rgba(60, 64, 67, 0.3), 0px 1px 3px 1px rgba(60, 64, 67, 0.15);\n",
              "      fill: #174EA6;\n",
              "    }\n",
              "\n",
              "    [theme=dark] .colab-df-convert {\n",
              "      background-color: #3B4455;\n",
              "      fill: #D2E3FC;\n",
              "    }\n",
              "\n",
              "    [theme=dark] .colab-df-convert:hover {\n",
              "      background-color: #434B5C;\n",
              "      box-shadow: 0px 1px 3px 1px rgba(0, 0, 0, 0.15);\n",
              "      filter: drop-shadow(0px 1px 2px rgba(0, 0, 0, 0.3));\n",
              "      fill: #FFFFFF;\n",
              "    }\n",
              "  </style>\n",
              "\n",
              "      <script>\n",
              "        const buttonEl =\n",
              "          document.querySelector('#df-6aef0d29-f597-4c38-8dab-b1ff5cfe4d56 button.colab-df-convert');\n",
              "        buttonEl.style.display =\n",
              "          google.colab.kernel.accessAllowed ? 'block' : 'none';\n",
              "\n",
              "        async function convertToInteractive(key) {\n",
              "          const element = document.querySelector('#df-6aef0d29-f597-4c38-8dab-b1ff5cfe4d56');\n",
              "          const dataTable =\n",
              "            await google.colab.kernel.invokeFunction('convertToInteractive',\n",
              "                                                     [key], {});\n",
              "          if (!dataTable) return;\n",
              "\n",
              "          const docLinkHtml = 'Like what you see? Visit the ' +\n",
              "            '<a target=\"_blank\" href=https://colab.research.google.com/notebooks/data_table.ipynb>data table notebook</a>'\n",
              "            + ' to learn more about interactive tables.';\n",
              "          element.innerHTML = '';\n",
              "          dataTable['output_type'] = 'display_data';\n",
              "          await google.colab.output.renderOutput(dataTable, element);\n",
              "          const docLink = document.createElement('div');\n",
              "          docLink.innerHTML = docLinkHtml;\n",
              "          element.appendChild(docLink);\n",
              "        }\n",
              "      </script>\n",
              "    </div>\n",
              "  </div>\n"
            ]
          },
          "metadata": {},
          "execution_count": 8
        },
        {
          "output_type": "execute_result",
          "data": {
            "text/plain": [
              "(670171, 20)"
            ]
          },
          "metadata": {},
          "execution_count": 8
        }
      ]
    },
    {
      "cell_type": "code",
      "source": [
        "y = data.pop('id')"
      ],
      "metadata": {
        "id": "RVli2PVugB7F"
      },
      "execution_count": 9,
      "outputs": []
    },
    {
      "cell_type": "code",
      "source": [
        "X = data.select_dtypes(exclude = ['object'])"
      ],
      "metadata": {
        "id": "82I5JN2Pvr_j"
      },
      "execution_count": 10,
      "outputs": []
    },
    {
      "cell_type": "code",
      "source": [
        "pipe = make_pipeline(SimpleImputer(strategy = 'mean'), RandomForestClassifier())"
      ],
      "metadata": {
        "id": "JMpUP8-Kj0wN"
      },
      "execution_count": 11,
      "outputs": []
    },
    {
      "cell_type": "code",
      "source": [
        "# 3.0 Divide data into training and validation subsets\n",
        "X_train, X_valid, y_train, y_valid = train_test_split(X, y, train_size=0.8, test_size=0.2,\n",
        "                                                      random_state=0)"
      ],
      "metadata": {
        "id": "B6AwJ6--kFl-"
      },
      "execution_count": 12,
      "outputs": []
    },
    {
      "cell_type": "code",
      "source": [
        "pipe.fit(X_train,y_train)"
      ],
      "metadata": {
        "id": "c4SWr02okIkv"
      },
      "execution_count": null,
      "outputs": []
    },
    {
      "cell_type": "code",
      "source": [],
      "metadata": {
        "id": "OS8Ss1o-kKlj"
      },
      "execution_count": null,
      "outputs": []
    }
  ]
}